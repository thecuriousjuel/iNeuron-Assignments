{
 "cells": [
  {
   "cell_type": "markdown",
   "id": "ec67befb",
   "metadata": {},
   "source": [
    "# Problem Statement 1:"
   ]
  },
  {
   "cell_type": "raw",
   "id": "5dd670ed",
   "metadata": {},
   "source": [
    "In each of the following situations, state whether it is a correctly stated hypothesis\n",
    "testing problem and why?\n",
    "\n",
    "1. 𝐻0: 𝜇 = 25, 𝐻1: 𝜇 ≠ 25\n",
    "2. 𝐻0: 𝜎 > 10, 𝐻1: 𝜎 = 10\n",
    "3. 𝐻0: 𝑥 = 50, 𝐻1: 𝑥 ≠ 50\n",
    "4. 𝐻0: 𝑝 = 0.1, 𝐻1: 𝑝 = 0.5\n",
    "5. 𝐻0: 𝑠 = 30, 𝐻1: 𝑠 > 30"
   ]
  },
  {
   "cell_type": "markdown",
   "id": "7050ab4c",
   "metadata": {},
   "source": [
    "## Solution"
   ]
  },
  {
   "cell_type": "markdown",
   "id": "4b56c7d5",
   "metadata": {},
   "source": [
    "1. Correct since 25 is inclusive in the null hypothesis and all remaining numbers are included in the alternate hypothesis.\n",
    "\n",
    "2. Incorrect since greater than 10 is included in null hypothesis and 10 is included in the alternate hypothesis but less than 10 is not included. \n",
    "\n",
    "3. Correct since 50 is inclusive in the null hypothesis and all remaining numbers are included in the alternate hypothesis.\n",
    "\n",
    "4. Incorrect since p = 0.1 is included in null hypothesis and p = 0.5 is included in the alternate hypothesis but remaining numbers (x<0.1, 0.1<x<0.5, x>0.5) are not included.\n",
    "\n",
    "5. Incorrect since 30 is included in null hypothesis and greater than 30 is included in the alternate hypothesis but less than 30 is not included. "
   ]
  },
  {
   "cell_type": "markdown",
   "id": "26556694",
   "metadata": {},
   "source": [
    "# Problem Statement 2:"
   ]
  },
  {
   "cell_type": "raw",
   "id": "2309468c",
   "metadata": {},
   "source": [
    "The college bookstore tells prospective students that the average cost of its\n",
    "textbooks is Rs. 52 with a standard deviation of Rs. 4.50. A group of smart statistics\n",
    "students thinks that the average cost is higher. To test the bookstore’s claim against\n",
    "their alternative, the students will select a random sample of size 100. Assume that\n",
    "the mean from their random sample is Rs. 52.80. Perform a hypothesis test at the\n",
    "5% level of significance and state your decision."
   ]
  },
  {
   "cell_type": "markdown",
   "id": "c9915ff9",
   "metadata": {},
   "source": [
    "## Solution"
   ]
  },
  {
   "cell_type": "code",
   "execution_count": 1,
   "id": "5689ecfd",
   "metadata": {},
   "outputs": [
    {
     "name": "stdout",
     "output_type": "stream",
     "text": [
      "--------------------------------------------------\n",
      "Null Hypothesis :  Mean Value of Books <= 52\n",
      "Alternate Hypothesis :  Mean Value of Books > 52\n",
      "--------------------------------------------------\n",
      "Z test Value : 1.78\n",
      "Z value at 5% Significance : 1.64\n",
      "--------------------------------------------------\n",
      "We can see 1.78 > 1.64, and since it is right tail test, the null hypothesis (h0) is rejected.\n",
      "Conclusion : The book prices are high in college bookstore.\n",
      "--------------------------------------------------\n"
     ]
    }
   ],
   "source": [
    "%reset -f\n",
    "\n",
    "import numpy as np\n",
    "from scipy import stats\n",
    "\n",
    "h0 = 'Mean Value of Books <= 52'\n",
    "h1 = 'Mean Value of Books > 52'\n",
    "\n",
    "print('-' * 50)\n",
    "\n",
    "print('Null Hypothesis : ', h0)\n",
    "print('Alternate Hypothesis : ', h1)\n",
    "\n",
    "#Population Data\n",
    "pop_mean = 52\n",
    "std = 4.50\n",
    "\n",
    "\n",
    "# Sample Data\n",
    "n = 100\n",
    "sample_mean = 52.80\n",
    "alpha = 0.05\n",
    "\n",
    "print('-' * 50)\n",
    "# Z-Test\n",
    "\n",
    "z_test = (sample_mean - pop_mean) / (std / (n ** 0.5))\n",
    "print('Z test Value : {:.2f}'.format(z_test))\n",
    "\n",
    "\n",
    "# Z(0.05)\n",
    "\n",
    "z = np.abs(stats.norm.ppf(alpha))\n",
    "print('Z value at 5% Significance : {:.2f}'.format(z))\n",
    "\n",
    "print('-' * 50)\n",
    "print('We can see 1.78 > 1.64, and since it is right tail test, the \\\n",
    "null hypothesis (h0) is rejected.')\n",
    "\n",
    "print('Conclusion : The book prices are high in college bookstore.')\n",
    "print('-' * 50)\n",
    "\n",
    "\n"
   ]
  },
  {
   "cell_type": "markdown",
   "id": "5eb2f2b8",
   "metadata": {},
   "source": [
    "# Problem Statement 3:"
   ]
  },
  {
   "cell_type": "raw",
   "id": "03efce19",
   "metadata": {},
   "source": [
    "A certain chemical pollutant in the Genesee River has been constant for several\n",
    "years with mean μ = 34 ppm (parts per million) and standard deviation σ = 8 ppm. A\n",
    "group of factory representatives whose companies discharge liquids into the river is\n",
    "now claiming that they have lowered the average with improved filtration devices. A\n",
    "group of environmentalists will test to see if this is true at the 1% level of\n",
    "significance. Assume \\ that their sample of size 50 gives a mean of 32.5 ppm.\n",
    "Perform a hypothesis test at the 1% level of significance and state your decision."
   ]
  },
  {
   "cell_type": "markdown",
   "id": "ba7015bb",
   "metadata": {},
   "source": [
    "## Solution"
   ]
  },
  {
   "cell_type": "code",
   "execution_count": 2,
   "id": "d2b05065",
   "metadata": {},
   "outputs": [
    {
     "name": "stdout",
     "output_type": "stream",
     "text": [
      "--------------------------------------------------\n",
      "Null Hypothesis :  Avg pollutant quantity < 34 ppm\n",
      "Alternate Hypothesis :  Avg pollutant quantity >= 34 ppm\n",
      "--------------------------------------------------\n",
      "Z test Value : -1.33\n",
      "Z value at 1% Significance : 2.33\n",
      "--------------------------------------------------\n",
      "Since -1.33 < 2.33 and this is a right tailed test. We cannot reject the null hypothesis.\n",
      "Conclusion : The claim made by the factory representatives is correct.\n",
      "--------------------------------------------------\n"
     ]
    }
   ],
   "source": [
    "%reset -f\n",
    "\n",
    "import numpy as np\n",
    "from scipy import stats\n",
    "\n",
    "h0 = 'Avg pollutant quantity < 34 ppm'\n",
    "h1 = 'Avg pollutant quantity >= 34 ppm'\n",
    "\n",
    "print('-' * 50)\n",
    "\n",
    "print('Null Hypothesis : ', h0)\n",
    "print('Alternate Hypothesis : ', h1)\n",
    "\n",
    "pop_mean = 34\n",
    "pop_std = 8\n",
    "\n",
    "alpha = 0.01\n",
    "\n",
    "n = 50\n",
    "sample_mean = 32.5\n",
    "\n",
    "print('-' * 50)\n",
    "\n",
    "z_test = (sample_mean - pop_mean) / (pop_std / (n ** 0.5))\n",
    "print('Z test Value : {:.2f}'.format(z_test))\n",
    "\n",
    "z = np.abs(stats.norm.ppf(alpha))\n",
    "print('Z value at 1% Significance : {:.2f}'.format(z))\n",
    "\n",
    "print('-' * 50)\n",
    "\n",
    "print('Since -1.33 < 2.33 and this is a right tailed test. We cannot reject the null hypothesis.')\n",
    "print('Conclusion : The claim made by the factory representatives is correct.')\n",
    "print('-' * 50)"
   ]
  },
  {
   "cell_type": "markdown",
   "id": "aecfaf85",
   "metadata": {},
   "source": [
    "# Problem Statement 4:"
   ]
  },
  {
   "cell_type": "raw",
   "id": "177c3b53",
   "metadata": {},
   "source": [
    "Based on population figures and other general information on the U.S. population, \n",
    "suppose it has been estimated that, on average, a family of four in the U.S. spends \n",
    "about $1135 annually on dental expenditures. Suppose further that a regional dental \n",
    "association wants to test to determine if this figure is accurate for their area of \n",
    "country. To test this, 22 families of 4 are randomly selected from the population in \n",
    "that area of the country and a log is kept of the family’s dental expenditure for one \n",
    "year. The resulting data are given below. Assuming, that dental expenditure is \n",
    "normally distributed in the population, use the data and an alpha of 0.5 to test the \n",
    "dental association’s hypothesis.\n",
    "1008, 812, 1117, 1323, 1308, 1415, 831, 1021, 1287, 851, 930, 730, 699,\n",
    "872, 913, 944, 954, 987, 1695, 995, 1003, 994"
   ]
  },
  {
   "cell_type": "markdown",
   "id": "4a53fa9d",
   "metadata": {},
   "source": [
    "## Solution"
   ]
  },
  {
   "cell_type": "code",
   "execution_count": 3,
   "id": "4b6b9a69",
   "metadata": {},
   "outputs": [
    {
     "name": "stdout",
     "output_type": "stream",
     "text": [
      "--------------------------------------------------\n",
      "Null Hypothesis :  Avg Family spends on Dental = 1135\n",
      "Alternate Hypothesis :  Avg Family spends on Dental != 1135\n",
      "--------------------------------------------------\n",
      "T test Value : -2.07\n",
      "T value at 0.05% Significance : -2.08 to +2.08 for two tailed test\n",
      "--------------------------------------------------\n",
      "-2.08 < -2.07. H0 is not rejected.\n",
      "Conclusion : Average family spends on Dental is $1135\n",
      "--------------------------------------------------\n"
     ]
    }
   ],
   "source": [
    "%reset -f\n",
    "\n",
    "import numpy as np\n",
    "from scipy import stats\n",
    "\n",
    "h0 = 'Avg Family spends on Dental = 1135'\n",
    "h1 = 'Avg Family spends on Dental != 1135'\n",
    "\n",
    "print('-' * 50)\n",
    "\n",
    "print('Null Hypothesis : ', h0)\n",
    "print('Alternate Hypothesis : ', h1)\n",
    "\n",
    "pop_mean = 1135\n",
    "\n",
    "alpha = 0.05\n",
    "\n",
    "n = 22\n",
    "df = n - 1\n",
    "sample_mean = 1031.31\n",
    "sample_std = 234.85\n",
    "\n",
    "print('-' * 50)\n",
    "\n",
    "t_test = (sample_mean - pop_mean) / (sample_std / (n ** 0.5))\n",
    "print('T test Value : {:.2f}'.format(t_test))\n",
    "\n",
    "\n",
    "print('T value at {}% Significance : -2.08 to +2.08 for two tailed test'.format(alpha))\n",
    "\n",
    "print('-' * 50)\n",
    "\n",
    "print('-2.08 < -2.07. H0 is not rejected.')\n",
    "print('Conclusion : Average family spends on Dental is $1135')\n",
    "print('-' * 50)"
   ]
  },
  {
   "cell_type": "markdown",
   "id": "31996bd2",
   "metadata": {},
   "source": [
    "# Problem Statement 5:"
   ]
  },
  {
   "cell_type": "raw",
   "id": "acf2f317",
   "metadata": {},
   "source": [
    "In a report prepared by the Economic Research Department of a major bank the \n",
    "Department manager maintains that the average annual family income on Metropolis \n",
    "is $48,432. What do you conclude about the validity of the report if a random sample \n",
    "of 400 families shows and average income of $48,574 with a standard deviation of \n",
    "2000?"
   ]
  },
  {
   "cell_type": "markdown",
   "id": "84b0b9ca",
   "metadata": {},
   "source": [
    "## Solution"
   ]
  },
  {
   "cell_type": "code",
   "execution_count": 4,
   "id": "b5429e7b",
   "metadata": {},
   "outputs": [
    {
     "name": "stdout",
     "output_type": "stream",
     "text": [
      "--------------------------------------------------\n",
      "Null Hypothesis :  Avg Annual Salary == $48,574\n",
      "Alternate Hypothesis :  Avg Annual Salary != $48,574\n",
      "--------------------------------------------------\n",
      "Z test Value : 1.42\n",
      "Z value at 0.05% Significance : -1.96 to +1.96\n",
      "--------------------------------------------------\n",
      "Since -1.96 < 1.42 < +1.96. Hence H0 cannot be rejected.\n",
      "Conclusion : Avg Salary is $48,574 at 5% level of significance.\n",
      "--------------------------------------------------\n"
     ]
    }
   ],
   "source": [
    "%reset -f\n",
    "\n",
    "import numpy as np\n",
    "from scipy import stats\n",
    "\n",
    "h0 = 'Avg Annual Salary == $48,574'\n",
    "h1 = 'Avg Annual Salary != $48,574'\n",
    "\n",
    "print('-' * 50)\n",
    "\n",
    "print('Null Hypothesis : ', h0)\n",
    "print('Alternate Hypothesis : ', h1)\n",
    "\n",
    "pop_mean = 48432\n",
    "\n",
    "alpha = 0.05\n",
    "\n",
    "n = 400\n",
    "sample_mean = 48574\n",
    "sample_std = 2000\n",
    "\n",
    "print('-' * 50)\n",
    "\n",
    "z_test = (sample_mean - pop_mean) / (sample_std / (n ** 0.5))\n",
    "print('Z test Value : {:.2f}'.format(z_test))\n",
    "\n",
    "z = np.abs(stats.norm.ppf(alpha))\n",
    "print('Z value at {}% Significance : -1.96 to +1.96'.format(alpha, z))\n",
    "\n",
    "print('-' * 50)\n",
    "\n",
    "print('Since -1.96 < 1.42 < +1.96. Hence H0 cannot be rejected.')\n",
    "print('Conclusion : Avg Salary is $48,574 at 5% level of significance.')\n",
    "print('-' * 50)"
   ]
  },
  {
   "cell_type": "markdown",
   "id": "f0b00d40",
   "metadata": {},
   "source": [
    "# Problem Statement 6:"
   ]
  },
  {
   "cell_type": "raw",
   "id": "a317b550",
   "metadata": {},
   "source": [
    "Suppose that in past years the average price per square foot for warehouses in the \n",
    "United States has been $32.28. A national real estate investor wants to determine \n",
    "whether that figure has changed now. The investor hires a researcher who randomly \n",
    "samples 19 warehouses that are for sale across the United States and finds that the \n",
    "mean price per square foot is $31.67, with a standard deviation of $1.29. assume \n",
    "that the prices of warehouse footage are normally distributed in population. If the \n",
    "researcher uses a 5% level of significance, what statistical conclusion can be \n",
    "reached? What are the hypotheses?"
   ]
  },
  {
   "cell_type": "markdown",
   "id": "be2cec0d",
   "metadata": {},
   "source": [
    "## Solution"
   ]
  },
  {
   "cell_type": "code",
   "execution_count": 5,
   "id": "df4badc4",
   "metadata": {},
   "outputs": [
    {
     "name": "stdout",
     "output_type": "stream",
     "text": [
      "--------------------------------------------------\n",
      "Null Hypothesis :  Average price per square foot for warehouses in USA == $32.28\n",
      "Alternate Hypothesis :  Average price per square foot for warehouses in USA != $32.28\n",
      "--------------------------------------------------\n",
      "T test Value : -2.06\n",
      "T value at 0.05 Significance is -2.101 to +2.101\n",
      "--------------------------------------------------\n",
      "Since -2.101 < -2.06 < +2.101. H0 cannot be rejected.\n",
      "Conclusion : Average price per square foot for warehouses in USA is $32.28 at 5% level of significance.\n",
      "--------------------------------------------------\n"
     ]
    }
   ],
   "source": [
    "%reset -f\n",
    "\n",
    "import numpy as np\n",
    "from scipy import stats\n",
    "\n",
    "h0 = 'Average price per square foot for warehouses in USA == $32.28'\n",
    "h1 = 'Average price per square foot for warehouses in USA != $32.28'\n",
    "\n",
    "print('-' * 50)\n",
    "\n",
    "print('Null Hypothesis : ', h0)\n",
    "print('Alternate Hypothesis : ', h1)\n",
    "\n",
    "pop_mean = 32.28\n",
    "\n",
    "alpha = 0.05\n",
    "\n",
    "n = 19\n",
    "df = n-1\n",
    "sample_mean = 31.67\n",
    "sample_std = 1.29\n",
    "\n",
    "print('-' * 50)\n",
    "\n",
    "t_test = (sample_mean - pop_mean) / (sample_std / (n ** 0.5))\n",
    "print('T test Value : {:.2f}'.format(t_test))\n",
    "\n",
    "print('T value at {} Significance is -2.101 to +2.101'.format(alpha))\n",
    "\n",
    "print('-' * 50)\n",
    "\n",
    "print('Since -2.101 < -2.06 < +2.101. H0 cannot be rejected.')\n",
    "print('Conclusion : Average price per square foot for warehouses in USA is $32.28 at 5% level of significance.')\n",
    "print('-' * 50)"
   ]
  },
  {
   "cell_type": "markdown",
   "id": "68109ca8",
   "metadata": {},
   "source": [
    "# Problem Statement 7:"
   ]
  },
  {
   "cell_type": "markdown",
   "id": "371b8203",
   "metadata": {},
   "source": [
    "<p> Fill in the blank spaces in the table and draw your conclusions from it. </p>\n",
    "<html>\n",
    "<table>\n",
    "<tbody>\n",
    "<tr>\n",
    "<td>Acceptance Region</td>\n",
    "<td>Sample Size</td>\n",
    "<td>$\\alpha$&nbsp;</td>\n",
    "<td>$\\beta$ at&nbsp;$\\mu$ = 52</td>\n",
    "<td>&nbsp;$\\beta$ at&nbsp;$\\mu$ = 50.5</td>\n",
    "</tr>\n",
    "<tr>\n",
    "<td>&nbsp;48.5 &lt; $\\bar{x}$ &lt; 51.5</td>\n",
    "<td>&nbsp;10</td>\n",
    "<td></td>\n",
    "<td></td>\n",
    "<td></td>\n",
    "</tr>\n",
    "<tr>\n",
    "<td>&nbsp;48 &lt; $\\bar{x}$ &lt; 52</td>\n",
    "<td>&nbsp;10</td>\n",
    "<td></td>\n",
    "<td></td>\n",
    "<td></td>\n",
    "</tr>\n",
    "<tr>\n",
    "<td>&nbsp;48.81 &lt; $\\bar{x}$ &lt; 51.9</td>\n",
    "<td>&nbsp;16</td>\n",
    "<td></td>\n",
    "<td></td>\n",
    "<td></td>\n",
    "</tr>\n",
    "<tr>\n",
    "<td>&nbsp;48.42 &lt; $\\bar{x}$ &lt; 51.58</td>\n",
    "<td>&nbsp;16</td>\n",
    "<td></td>\n",
    "<td></td>\n",
    "<td></td>\n",
    "</tr>\n",
    "</tbody>\n",
    "</table>\n",
    "<p>&nbsp;</p>\n",
    "</html>"
   ]
  },
  {
   "cell_type": "markdown",
   "id": "e3173f8b",
   "metadata": {},
   "source": [
    "## Solution"
   ]
  },
  {
   "cell_type": "code",
   "execution_count": 6,
   "id": "836d159d",
   "metadata": {},
   "outputs": [
    {
     "name": "stdout",
     "output_type": "stream",
     "text": [
      "--------------------------------------------------\n",
      "Acceptance Region : 48.5 < x < 51.5\n",
      "--------------------------------------------------\n",
      "Alpha : 0.06\n",
      "Beta at u = 52 : 0.26\n",
      "Beta at u = 50.5 : 0.89\n",
      "--------------------------------------------------\n",
      "Acceptance Region : 48 < x < 52\n",
      "--------------------------------------------------\n",
      "Alpha : 0.01\n",
      "Beta at u = 52 : 0.50\n",
      "Beta at u = 50.5 : 0.97\n",
      "--------------------------------------------------\n",
      "Acceptance Region : 48.81 < x < 51.19\n",
      "--------------------------------------------------\n",
      "Alpha : 0.06\n",
      "Beta at u = 52 : 0.10\n",
      "Beta at u = 50.5 : 0.86\n",
      "--------------------------------------------------\n",
      "Acceptance Region : 48.42 < x < 51.58\n",
      "--------------------------------------------------\n",
      "Alpha : 0.01\n",
      "Beta at u = 52 : 0.25\n",
      "Beta at u = 50.5 : 0.96\n"
     ]
    }
   ],
   "source": [
    "%reset -f\n",
    "\n",
    "import numpy as np\n",
    "from scipy import stats\n",
    "\n",
    "# Assumptions\n",
    "# Population Mean = 50, Standard Deviation = 2.5\n",
    "\n",
    "\n",
    "def get_z1_z2(lower, upper, pop_mean, sample_std):\n",
    "    z1 = (lower - pop_mean) / sample_std\n",
    "    z2 = (upper - pop_mean) / sample_std\n",
    "    \n",
    "    return z1, z2\n",
    "\n",
    "def get_alpha_beta(lower, upper, sample_size, pop_mean = 50, pop_std_dev = 2.5):\n",
    "\n",
    "    sample_std  = pop_std_dev / (sample_size ** 0.5)\n",
    "    z1, z2 = get_z1_z2(lower, upper, pop_mean, sample_std)\n",
    "\n",
    "    # Calculating value of alpha\n",
    "\n",
    "    alpha = np.abs(stats.norm.cdf(z1)) + 1 - np.abs(stats.norm.cdf(z2))\n",
    "\n",
    "    # Calculating value of beta at 52\n",
    "\n",
    "    pop_mean = 52\n",
    "    z1, z2 = get_z1_z2(lower, upper, pop_mean, sample_std)\n",
    "    beta1 = np.abs(stats.norm.cdf(z2)) - np.abs(stats.norm.cdf(z1))\n",
    "    \n",
    "    # Calculating value of beta at 50.5\n",
    "\n",
    "    pop_mean = 50.5\n",
    "    z1, z2 = get_z1_z2(lower, upper, pop_mean, sample_std)\n",
    "    beta2 = np.abs(stats.norm.cdf(z2)) - np.abs(stats.norm.cdf(z1))\n",
    "\n",
    "    return alpha, beta1, beta2\n",
    "\n",
    "\n",
    "def display(alpha, beta1, beta2, lower, upper):\n",
    "    print('-' * 50)\n",
    "    print('Acceptance Region : {} < x < {}'.format(lower, upper))\n",
    "    print('-' * 50)\n",
    "    \n",
    "    print('Alpha : {:.2f}'.format(alpha))\n",
    "    print('Beta at u = 52 : {:.2f}'.format(beta1))\n",
    "    print('Beta at u = 50.5 : {:.2f}'.format(beta2))\n",
    "    \n",
    "    \n",
    "\n",
    "# For Acceptance Region : 48.5 < x < 51.5\n",
    "\n",
    "\n",
    "alpha, beta1, beta2 = get_alpha_beta(lower = 48.5, upper = 51.5, sample_size = 10)\n",
    "display(alpha, beta1, beta2, lower = 48.5, upper = 51.5)\n",
    "\n",
    "\n",
    "# For Acceptance Region : 48 < x < 52\n",
    "\n",
    "alpha, beta1, beta2 = get_alpha_beta(lower = 48, upper = 52, sample_size = 10)\n",
    "display(alpha, beta1, beta2, lower = 48, upper = 52)\n",
    "\n",
    "\n",
    "# For Acceptance Region : 48.81 < x < 51.19\n",
    "\n",
    "alpha, beta1, beta2 = get_alpha_beta(lower = 48.81, upper = 51.19, sample_size = 16)\n",
    "display(alpha, beta1, beta2, lower = 48.81, upper = 51.19)\n",
    "\n",
    "\n",
    "# For Acceptance Region : 48.42 < x < 51.58\n",
    "\n",
    "alpha, beta1, beta2 = get_alpha_beta(lower = 48.42, upper = 51.58, sample_size = 16)\n",
    "display(alpha, beta1, beta2, lower = 48.42, upper = 51.58)"
   ]
  },
  {
   "cell_type": "markdown",
   "id": "0d6be252",
   "metadata": {},
   "source": [
    "### The below table summarizes the data"
   ]
  },
  {
   "cell_type": "markdown",
   "id": "d0dc78a1",
   "metadata": {},
   "source": [
    "<html>\n",
    "<table>\n",
    "<tbody>\n",
    "<tr>\n",
    "<td>Acceptance Region</td>\n",
    "<td>Sample Size</td>\n",
    "<td>$\\alpha$&nbsp;</td>\n",
    "<td>$\\beta$ at&nbsp;$\\mu$ = 52</td>\n",
    "<td>&nbsp;$\\beta$ at&nbsp;$\\mu$ = 50.5</td>\n",
    "</tr>\n",
    "<tr>\n",
    "<td>&nbsp;48.5 &lt; $\\bar{x}$ &lt; 51.5</td>\n",
    "<td>&nbsp;10</td>\n",
    "<td>&nbsp;0.06</td>\n",
    "<td>&nbsp;0.26</td>\n",
    "<td>&nbsp;0.89</td>\n",
    "</tr>\n",
    "<tr>\n",
    "<td>&nbsp;48 &lt; $\\bar{x}$ &lt; 52</td>\n",
    "<td>&nbsp;10</td>\n",
    "<td>&nbsp;0.01</td>\n",
    "<td>&nbsp;0.50</td>\n",
    "<td>&nbsp;0.97</td>\n",
    "</tr>\n",
    "<tr>\n",
    "<td>&nbsp;48.81 &lt; $\\bar{x}$ &lt; 51.9</td>\n",
    "<td>&nbsp;16</td>\n",
    "<td>&nbsp;0.06</td>\n",
    "<td>&nbsp;0.10</td>\n",
    "<td>&nbsp;0.86</td>\n",
    "</tr>\n",
    "<tr>\n",
    "<td>&nbsp;48.42 &lt; $\\bar{x}$ &lt; 51.58</td>\n",
    "<td>&nbsp;16</td>\n",
    "<td>&nbsp;0.01</td>\n",
    "<td>&nbsp;0.25</td>\n",
    "<td>&nbsp;0.96</td>\n",
    "</tr>\n",
    "</tbody>\n",
    "</table>\n",
    "<p>&nbsp;</p>\n",
    "</html>"
   ]
  },
  {
   "cell_type": "markdown",
   "id": "0c9ed52c",
   "metadata": {},
   "source": [
    "# Problem Statement 8:"
   ]
  },
  {
   "cell_type": "raw",
   "id": "a64dd9a7",
   "metadata": {},
   "source": [
    "Find the t-score for a sample size of 16 taken from a population with mean 10 when \n",
    "the sample mean is 12 and the sample standard deviation is 1.5."
   ]
  },
  {
   "cell_type": "markdown",
   "id": "f2cf4668",
   "metadata": {},
   "source": [
    "## Solution"
   ]
  },
  {
   "cell_type": "code",
   "execution_count": 7,
   "id": "cbf1cb9d",
   "metadata": {},
   "outputs": [
    {
     "name": "stdout",
     "output_type": "stream",
     "text": [
      "T Score : 5.33\n"
     ]
    }
   ],
   "source": [
    "%reset -f\n",
    "\n",
    "u = 10\n",
    "\n",
    "n = 16\n",
    "x = 12\n",
    "s = 1.5\n",
    "\n",
    "t = (x - u) / (s / (n ** 0.5))\n",
    "print('T Score : {:.2f}'.format(t))"
   ]
  },
  {
   "cell_type": "markdown",
   "id": "6feb2d99",
   "metadata": {},
   "source": [
    "# Problem Statement 9:"
   ]
  },
  {
   "cell_type": "raw",
   "id": "f21106d9",
   "metadata": {},
   "source": [
    "Find the t-score below which we can expect 99% of sample means will fall if samples \n",
    "of size 16 are taken from a normally distributed population."
   ]
  },
  {
   "cell_type": "markdown",
   "id": "1cb6b179",
   "metadata": {},
   "source": [
    "## Solution"
   ]
  },
  {
   "cell_type": "code",
   "execution_count": 8,
   "id": "397ab271",
   "metadata": {},
   "outputs": [
    {
     "name": "stdout",
     "output_type": "stream",
     "text": [
      "T score : 2.602\n"
     ]
    }
   ],
   "source": [
    "%reset -f\n",
    "\n",
    "import numpy as np\n",
    "from scipy import stats\n",
    "\n",
    "n = 16\n",
    "df = n - 1\n",
    "a = 0.01\n",
    "\n",
    "t_score = np.abs(stats.t.ppf(a, df))\n",
    "print('T score : {:.3f}'.format(t_score))"
   ]
  },
  {
   "cell_type": "markdown",
   "id": "5c19cd26",
   "metadata": {},
   "source": [
    "# Problem Statement 10:"
   ]
  },
  {
   "cell_type": "raw",
   "id": "1b7ff684",
   "metadata": {},
   "source": [
    "If a random sample of size 25 drawn from a normal population gives a mean of 60 \n",
    "and a standard deviation of 4, find the range of t-scores where we can expect to find \n",
    "the middle 95% of all sample means. Compute the probability that (−𝑡0.05 <𝑡<𝑡0.10)."
   ]
  },
  {
   "cell_type": "markdown",
   "id": "f0707836",
   "metadata": {},
   "source": [
    "## Solution"
   ]
  },
  {
   "cell_type": "code",
   "execution_count": 9,
   "id": "98355199",
   "metadata": {},
   "outputs": [
    {
     "name": "stdout",
     "output_type": "stream",
     "text": [
      "T Score Range : -2.06 to 2.06\n",
      "Probability :  0.85\n"
     ]
    }
   ],
   "source": [
    "%reset -f\n",
    "\n",
    "import numpy as np\n",
    "from scipy import stats\n",
    "\n",
    "n = 25\n",
    "df = n - 1\n",
    "x = 60\n",
    "s = 4\n",
    "a = 0.05\n",
    "a_2 = a / 2\n",
    "\n",
    "t1 = stats.t.ppf(a_2, df)\n",
    "t2 = np.abs(stats.t.ppf(a_2, df))\n",
    "\n",
    "print('T Score Range : {:.2f} to {:.2f}'.format(t1, t2))\n",
    "\n",
    "# -t(0.05) = -1.711\n",
    "# t(0.10) = +1.318\n",
    "\n",
    "p_value = 1 - (0.05 + 0.10)\n",
    "print('Probability : ', p_value)"
   ]
  },
  {
   "cell_type": "markdown",
   "id": "e741a829",
   "metadata": {},
   "source": [
    "# Problem Statement 11:"
   ]
  },
  {
   "cell_type": "raw",
   "id": "7ca15fc9",
   "metadata": {},
   "source": [
    "Two-tailed test for difference between two population means\n",
    "Is there evidence to conclude that the number of people travelling from Bangalore to \n",
    "Chennai is different from the number of people travelling from Bangalore to Hosur in \n",
    "a week, given the following:\n",
    "Population 1: Bangalore to Chennai n1 = 1200\n",
    "x1 = 452\n",
    "s1 = 212\n",
    "Population 2: Bangalore to Hosur n2 = 800\n",
    "x2 = 523\n",
    "s2 = 185"
   ]
  },
  {
   "cell_type": "markdown",
   "id": "1546432c",
   "metadata": {},
   "source": [
    "## Solution"
   ]
  },
  {
   "cell_type": "code",
   "execution_count": 10,
   "id": "52e40c4b",
   "metadata": {},
   "outputs": [
    {
     "name": "stdout",
     "output_type": "stream",
     "text": [
      "Two tailed test need to be conducted.\n",
      "Z score acceptable range : -1.96 to +1.96\n",
      "Computed Z score : -7.93\n",
      "Since -7.93 < -1.96, H0 is rejected.\n"
     ]
    }
   ],
   "source": [
    "%reset -f\n",
    "\n",
    "import numpy as np\n",
    "from scipy import stats\n",
    "\n",
    "H0 = 'Population Travelling is different.'\n",
    "H1 = 'Population Travelling is same.'\n",
    "\n",
    "print('Two tailed test need to be conducted.')\n",
    "\n",
    "n1 = 1200\n",
    "x1 = 452\n",
    "s1 = 212\n",
    "\n",
    "n2 = 800\n",
    "x2 = 523\n",
    "s2 = 185\n",
    "\n",
    "\n",
    "Assumption = 'Population is same hence mean is same'\n",
    "alpha = 0.05\n",
    "alpha_2 = 0.025\n",
    "\n",
    "print('Z score acceptable range : -1.96 to +1.96')\n",
    "\n",
    "z_score = (x1 - x2) / (((s1 ** 2) / n1) + ((s2 ** 2) / n2)) ** 0.5\n",
    "print('Computed Z score : {:.2f}'.format(z_score))\n",
    "print('Since -7.93 < -1.96, H0 is rejected.')"
   ]
  },
  {
   "cell_type": "markdown",
   "id": "2971fc96",
   "metadata": {},
   "source": [
    "# Problem Statement 12:"
   ]
  },
  {
   "cell_type": "raw",
   "id": "9b4cd39e",
   "metadata": {},
   "source": [
    "Is there evidence to conclude that the number of people preferring Duracell battery is \n",
    "different from the number of people preferring Energizer battery, given the following:\n",
    "Population 1: Duracell\n",
    "n1 = 100\n",
    "x1 = 308\n",
    "s1 = 84\n",
    "\n",
    "Population 2: Energizer\n",
    "n2 = 100\n",
    "x2 = 254\n",
    "s2 = 67"
   ]
  },
  {
   "cell_type": "markdown",
   "id": "f966808c",
   "metadata": {},
   "source": [
    "## Solution"
   ]
  },
  {
   "cell_type": "code",
   "execution_count": 11,
   "id": "5c52149f",
   "metadata": {},
   "outputs": [
    {
     "name": "stdout",
     "output_type": "stream",
     "text": [
      "Two tailed test need to be conducted.\n",
      "Z score acceptable range : -1.96 to +1.96\n",
      "Computed Z score : 5.03\n",
      "Since -7.93 < -1.96, H0 is rejected.\n"
     ]
    }
   ],
   "source": [
    "%reset -f\n",
    "\n",
    "import numpy as np\n",
    "from scipy import stats\n",
    "\n",
    "H0 = 'People preferring Duracell battery is different from people preferring Energizer battery.'\n",
    "H1 = 'People preferring Duracell battery is same from people preferring Energizer battery.'\n",
    "\n",
    "print('Two tailed test need to be conducted.')\n",
    "\n",
    "n1 = 100\n",
    "x1 = 308\n",
    "s1 = 84\n",
    "\n",
    "n2 = 100\n",
    "x2 = 254\n",
    "s2 = 67\n",
    "\n",
    "\n",
    "Assumption = 'Population is same hence mean is same'\n",
    "alpha = 0.05\n",
    "alpha_2 = 0.025\n",
    "\n",
    "print('Z score acceptable range : -1.96 to +1.96')\n",
    "\n",
    "z_score = (x1 - x2) / (((s1 ** 2) / n1) + ((s2 ** 2) / n2)) ** 0.5\n",
    "print('Computed Z score : {:.2f}'.format(z_score))\n",
    "print('Since -7.93 < -1.96, H0 is rejected.')"
   ]
  },
  {
   "cell_type": "markdown",
   "id": "da316e41",
   "metadata": {},
   "source": [
    "# Problem Statement 13:"
   ]
  },
  {
   "cell_type": "raw",
   "id": "c56a7a84",
   "metadata": {},
   "source": [
    "Pooled estimate of the population variance\n",
    "Does the data provide sufficient evidence to conclude that average percentage\n",
    "increase in the price of sugar differs when it is sold at two different prices?\n",
    "Population 1: Price of sugar = Rs. 27.50 n1 = 14\n",
    "x1 = 0.317%\n",
    "s1 = 0.12%\n",
    "Population 2: Price of sugar = Rs. 20.00 n2 = 9\n",
    "x2 = 0.21%\n",
    "s2 = 0.11%"
   ]
  },
  {
   "cell_type": "markdown",
   "id": "9a922754",
   "metadata": {},
   "source": [
    "## Solution"
   ]
  },
  {
   "cell_type": "code",
   "execution_count": 12,
   "id": "2c1905ed",
   "metadata": {},
   "outputs": [
    {
     "name": "stdout",
     "output_type": "stream",
     "text": [
      "Two tailed test need to be conducted.\n",
      "T score acceptable range : -2.08 to +2.08\n",
      "Computed T score : 2.15\n",
      "Since 2.15 > 2.08, H0 is rejected.\n"
     ]
    }
   ],
   "source": [
    "%reset -f\n",
    "\n",
    "import numpy as np\n",
    "from scipy import stats\n",
    "\n",
    "H0 = 'Average price of sugar increases'\n",
    "H1 = 'Avergae price of sugar doesnot increases'\n",
    "\n",
    "print('Two tailed test need to be conducted.')\n",
    "\n",
    "n1 = 14\n",
    "x1 = 0.317\n",
    "s1 = 0.12\n",
    "\n",
    "n2 = 9\n",
    "x2 = 0.21\n",
    "s2 = 0.11\n",
    "\n",
    "df = n1 + n2 - 2\n",
    "\n",
    "\n",
    "Assumption = 'Population is same hence mean is same'\n",
    "alpha = 0.05\n",
    "alpha_2 = 0.025\n",
    "\n",
    "print('T score acceptable range : -2.08 to +2.08')\n",
    "\n",
    "t_score = (x1 - x2) / ((((n1 - 1) * s1**2 + (n2 - 1) * s2**2 ) / df) * (1 / n1 + 1 / n2)) ** 0.5\n",
    "\n",
    "print('Computed T score : {:.2f}'.format(t_score))\n",
    "print('Since {:.2f} > 2.08, H0 is rejected.'.format(t_score))"
   ]
  },
  {
   "cell_type": "markdown",
   "id": "1c968ebc",
   "metadata": {},
   "source": [
    "# Problem Statement 14:"
   ]
  },
  {
   "cell_type": "raw",
   "id": "f3f04f30",
   "metadata": {},
   "source": [
    "The manufacturers of compact disk players want to test whether a small price \n",
    "reduction is enough to increase sales of their product. Is there evidence that the \n",
    "small price reduction is enough to increase sales of compact disk players?\n",
    "Population 1: Before reduction\n",
    "n1 = 15\n",
    "x1 = Rs. 6598 s1 = Rs. 844\n",
    "Population 2: After reduction n2 = 12\n",
    "x2 = RS. 6870\n",
    "s2 = Rs. 669"
   ]
  },
  {
   "cell_type": "markdown",
   "id": "78d8a4b5",
   "metadata": {},
   "source": [
    "## Solution"
   ]
  },
  {
   "cell_type": "code",
   "execution_count": 13,
   "id": "f13d5a2e",
   "metadata": {},
   "outputs": [
    {
     "name": "stdout",
     "output_type": "stream",
     "text": [
      "Two tailed test need to be conducted.\n",
      "T score acceptable range : -2.06 to +2.06\n",
      "Computed T score : -0.91\n",
      "Since -2.06 < -0.91 < 1.96, H0 can't be rejected.\n"
     ]
    }
   ],
   "source": [
    "%reset -f\n",
    "\n",
    "import numpy as np\n",
    "from scipy import stats\n",
    "\n",
    "\n",
    "H0 = 'Small price reduction increases sale'\n",
    "H1 = 'Small price reduction doesnot increase sale'\n",
    "\n",
    "print('Two tailed test need to be conducted.')\n",
    "\n",
    "n1 = 15\n",
    "x1 = 6598\n",
    "s1 = 844\n",
    "\n",
    "n2 = 12\n",
    "x2 = 6870\n",
    "s2 = 669\n",
    "\n",
    "df = n1 + n2 - 2\n",
    "\n",
    "\n",
    "Assumption = 'Population is same hence mean is same'\n",
    "alpha = 0.05\n",
    "alpha_2 = 0.025\n",
    "\n",
    "print('T score acceptable range : -2.06 to +2.06')\n",
    "\n",
    "t_score = (x1 - x2) / ((((n1 - 1) * s1**2 + (n2 - 1) * s2**2 ) / df) * (1 / n1 + 1 / n2)) ** 0.5\n",
    "\n",
    "print('Computed T score : {:.2f}'.format(t_score))\n",
    "print('Since -2.06 < {:.2f} < 1.96, H0 can\\'t be rejected.'.format(t_score))"
   ]
  },
  {
   "cell_type": "markdown",
   "id": "54377d08",
   "metadata": {},
   "source": [
    "# Problem Statement 15:"
   ]
  },
  {
   "cell_type": "raw",
   "id": "413fddee",
   "metadata": {},
   "source": [
    "Comparisons of two population proportions when the hypothesized difference is zero \n",
    "Carry out a two-tailed test of the equality of banks’ share of the car loan market in \n",
    "1980 and 1995.\n",
    "Population 1: 1980\n",
    "n1 = 1000\n",
    "x1 = 53\n",
    "𝑝 1 = 0.53\n",
    "Population 2: 1985\n",
    "n2 = 100\n",
    "x2 = 43\n",
    "𝑝 2= 0.53"
   ]
  },
  {
   "cell_type": "markdown",
   "id": "ff2cbc6a",
   "metadata": {},
   "source": [
    "## Solution"
   ]
  },
  {
   "cell_type": "code",
   "execution_count": 14,
   "id": "c9038ede",
   "metadata": {},
   "outputs": [
    {
     "name": "stdout",
     "output_type": "stream",
     "text": [
      "Two tailed test need to be conducted.\n",
      "Z score acceptable range : -1.96 to +1.96\n",
      "Computed Z score : 0.00\n",
      "Since -1.96 < 0.00 < 1.96, H0 can't be rejected.\n"
     ]
    }
   ],
   "source": [
    "%reset -f\n",
    "\n",
    "import numpy as np\n",
    "from scipy import stats\n",
    "\n",
    "H0 = 'Populations are same'\n",
    "H1 = 'Populations are different'\n",
    "\n",
    "print('Two tailed test need to be conducted.')\n",
    "\n",
    "n1 = 1000\n",
    "x1 = 53\n",
    "p1 = 0.53\n",
    "\n",
    "n2 = 100\n",
    "x2 = 43\n",
    "p2 = 0.53\n",
    "\n",
    "p = (p1 + p2) / 2\n",
    "\n",
    "\n",
    "Assumption = 'Population is same hence mean is same'\n",
    "alpha = 0.05\n",
    "alpha_2 = 0.025\n",
    "\n",
    "print('Z score acceptable range : -1.96 to +1.96')\n",
    "\n",
    "z_score = (p1 - p2) / (((p * (1 - p)) / n1) + ((p * (1 - p)) / n2)) ** 0.5\n",
    "\n",
    "print('Computed Z score : {:.2f}'.format(z_score))\n",
    "print('Since -1.96 < {:.2f} < 1.96, H0 can\\'t be rejected.'.format(z_score))"
   ]
  },
  {
   "cell_type": "markdown",
   "id": "a04218f2",
   "metadata": {},
   "source": [
    "# Problem Statement 16:"
   ]
  },
  {
   "cell_type": "raw",
   "id": "3ae01692",
   "metadata": {},
   "source": [
    "Carry out a one-tailed test to determine whether the population proportion of \n",
    "traveler’s check buyers who buy at least $2500 in checks when sweepstakes prizes \n",
    "are offered as at least 10% higher than the proportion of such buyers when no \n",
    "sweepstakes are on.\n",
    "Population 1: With sweepstakes\n",
    "n1 = 300\n",
    "x1 = 120\n",
    "𝑝 = 0.40\n",
    "Population 2: No sweepstakes n2 = 700\n",
    "x2 = 140\n",
    "𝑝 2= 0.20"
   ]
  },
  {
   "cell_type": "markdown",
   "id": "883cb2e0",
   "metadata": {},
   "source": [
    "## Solution"
   ]
  },
  {
   "cell_type": "code",
   "execution_count": 15,
   "id": "21467080",
   "metadata": {},
   "outputs": [
    {
     "name": "stdout",
     "output_type": "stream",
     "text": [
      "One tailed test need to be conducted.\n",
      "Z score acceptable range : x > -1.64.\n",
      "Computed Z score : 6.32.\n",
      "Since 6.32 > 1.96, H0 can't be rejected.\n"
     ]
    }
   ],
   "source": [
    "%reset -f\n",
    "\n",
    "import numpy as np\n",
    "from scipy import stats\n",
    "\n",
    "H0 = 'Travellers check buyers when sweepstakes prices are offered atleast 10% Higher.'\n",
    "H1 = 'Travellers check buyers when no sweepstakes on.'\n",
    "\n",
    "print('One tailed test need to be conducted.')\n",
    "\n",
    "n1 = 300\n",
    "x1 = 120\n",
    "p1 = 0.40\n",
    "\n",
    "n2 = 700\n",
    "x2 = 140\n",
    "p2 = 0.20\n",
    "\n",
    "p = (p1 + p2) / 2\n",
    "\n",
    "alpha = 0.05\n",
    "\n",
    "print('Z score acceptable range : x > -1.64.')\n",
    "\n",
    "z_score = (p1 - p2) / (((p * (1 - p)) / n1) + ((p * (1 - p)) / n2)) ** 0.5\n",
    "\n",
    "print('Computed Z score : {:.2f}.'.format(z_score))\n",
    "print('Since {:.2f} > 1.96, H0 can\\'t be rejected.'.format(z_score))"
   ]
  },
  {
   "cell_type": "markdown",
   "id": "254f1eac",
   "metadata": {},
   "source": [
    "# Problem Statement 17: "
   ]
  },
  {
   "cell_type": "raw",
   "id": "0be1031d",
   "metadata": {},
   "source": [
    "A die is thrown 132 times with the following results: Number turned up: 1, 2, 3, 4, 5, 6\n",
    "Frequency: 16, 20, 25, 14, 29, 28\n",
    "Is the die unbiased? Consider the degrees of freedom as 𝑝 − 1."
   ]
  },
  {
   "cell_type": "markdown",
   "id": "0d553a4e",
   "metadata": {},
   "source": [
    "## Solution"
   ]
  },
  {
   "cell_type": "code",
   "execution_count": 16,
   "id": "5a9757f0",
   "metadata": {},
   "outputs": [
    {
     "name": "stdout",
     "output_type": "stream",
     "text": [
      "--------------------------------------------------\n",
      "Null Hypothesis :  It is biased die.\n",
      "Alternate Hypothesis :  It is not a biased die.\n",
      "--------------------------------------------------\n",
      "Original Value\n",
      "--------------------------------------------------\n",
      "[16, 20, 25, 14, 29, 28]\n",
      "--------------------------------------------------\n",
      "Expected Value\n",
      "--------------------------------------------------\n",
      "[22, 22, 22, 22, 22, 22]\n",
      "--------------------------------------------------\n",
      "Degree of Freedom :  5\n",
      "Alpha Value :  0.05\n",
      "Chi-squared value from table is : 11.07\n",
      "--------------------------------------------------\n",
      "Computed Chi-squared value is : 9.00\n",
      "Since 9.00 < 11.07. H0 is not rejected.\n",
      "--------------------------------------------------\n",
      "Conclusion : It is a biased die.\n",
      "--------------------------------------------------\n"
     ]
    }
   ],
   "source": [
    "%reset -f\n",
    "\n",
    "H0 = 'It is biased die.'\n",
    "H1 = 'It is not a biased die.'\n",
    "\n",
    "list1 = [16, 20, 25, 14, 29, 28]\n",
    "list2 = [22, 22, 22, 22, 22, 22]\n",
    "s = 0\n",
    "for i in range(len(list2)):\n",
    "    s += (((list1[i] - list2[i]) ** 2)) / list2[i]\n",
    "    \n",
    "\n",
    "df = (6 - 1)\n",
    "alpha = 0.05\n",
    "table_value = 11.07\n",
    "\n",
    "print('-' * 50)\n",
    "print('Null Hypothesis : ', H0)\n",
    "print('Alternate Hypothesis : ', H1)\n",
    "print('-' * 50)\n",
    "print('Original Value')\n",
    "print('-' * 50)\n",
    "print(list1)\n",
    "print('-' * 50)\n",
    "print('Expected Value')\n",
    "print('-' * 50)\n",
    "print(list2)\n",
    "print('-' * 50)\n",
    "print('Degree of Freedom : ', df)\n",
    "print('Alpha Value : ', alpha)\n",
    "print('Chi-squared value from table is : {}'.format(table_value))\n",
    "print('-' * 50)\n",
    "\n",
    "print('Computed Chi-squared value is : {:.2f}'.format(s))   \n",
    "print('Since {:.2f} < {}. H0 is not rejected.'.format(s, table_value))\n",
    "print('-' * 50)\n",
    "print('Conclusion : It is a biased die.')\n",
    "print('-' * 50)"
   ]
  },
  {
   "cell_type": "markdown",
   "id": "aa0cdb67",
   "metadata": {},
   "source": [
    "# Problem Statement 18:"
   ]
  },
  {
   "cell_type": "markdown",
   "id": "ed488a92",
   "metadata": {},
   "source": [
    "<p>In a certain town, there are about one million eligible voters. A simple random \n",
    "sample of 10,000 eligible voters was chosen to study the relationship between \n",
    "gender and participation in the last election. The results are summarized in the \n",
    "following 2X2 (read two by two) contingency table: </p>\n",
    "\n",
    "<table>\n",
    "<tbody>\n",
    "<tr>\n",
    "<td>&nbsp;</td>\n",
    "<td>&nbsp;Men</td>\n",
    "<td>Women</td>\n",
    "</tr>\n",
    "<tr>\n",
    "<td>&nbsp;Voted</td>\n",
    "<td>2792</td>\n",
    "<td>3591</td>\n",
    "</tr>\n",
    "<tr>\n",
    "<td>Not Voted</td>\n",
    "<td>1486</td>\n",
    "<td>2131</td>\n",
    "</tr>\n",
    "</tbody>\n",
    "</table>\n",
    "\n",
    "<p>We would want to check whether being a man or a woman (columns) is independent of \n",
    "having voted in the last election (rows). In other words, is “gender and voting independent”?</p>"
   ]
  },
  {
   "cell_type": "markdown",
   "id": "7ee2f64d",
   "metadata": {},
   "source": [
    "## Solution"
   ]
  },
  {
   "cell_type": "code",
   "execution_count": 17,
   "id": "b0bd069f",
   "metadata": {},
   "outputs": [
    {
     "name": "stdout",
     "output_type": "stream",
     "text": [
      "--------------------------------------------------\n",
      "Null Hypothesis :  Gender and Voting are Independent\n",
      "Alternate Hypothesis :  Gender and Voting are not Independent\n",
      "--------------------------------------------------\n",
      "Original Value\n",
      "--------------------------------------------------\n",
      "[[2792 3591]\n",
      " [1486 2131]]\n",
      "--------------------------------------------------\n",
      "Expected Value\n",
      "--------------------------------------------------\n",
      "[2730.65 3652.35 1547.35 2069.65]\n",
      "--------------------------------------------------\n",
      "Degree of Freedom :  1\n",
      "Alpha Value :  0.05\n",
      "Chi-squared value from table is : 21.03\n",
      "--------------------------------------------------\n",
      "Computed Chi-squared value is : 6.66\n",
      "Since 6.66 < 21.03. H0 is not rejected.\n",
      "--------------------------------------------------\n",
      "Conclusion : Gender and Voting are Independent\n",
      "--------------------------------------------------\n"
     ]
    }
   ],
   "source": [
    "%reset -f\n",
    "\n",
    "import numpy as np\n",
    "\n",
    "list1 = [[2792, 3591], [1486, 2131]]\n",
    "list1 = np.array(list1)\n",
    "\n",
    "list2 = []\n",
    "for i in np.sum(list1, axis=1):\n",
    "    for j in np.sum(list1, axis=0):\n",
    "        list2.append(np.round((i * j) / np.sum(list1), 2))\n",
    "\n",
    "list2 = np.array(list2)\n",
    "s = 0\n",
    "\n",
    "for i in range(len(list2)):\n",
    "    s += (((list1.ravel()[i] - list2[i]) ** 2)) / list2[i]\n",
    "    \n",
    "    \n",
    "H0 = 'Gender and Voting are Independent'\n",
    "H1 = 'Gender and Voting are not Independent'    \n",
    "  \n",
    "df = (2 - 1) * (2 - 1) \n",
    "alpha = 0.05\n",
    "table_value = 21.03\n",
    "\n",
    "print('-' * 50)\n",
    "print('Null Hypothesis : ', H0)\n",
    "print('Alternate Hypothesis : ', H1)\n",
    "print('-' * 50)\n",
    "print('Original Value')\n",
    "print('-' * 50)\n",
    "print(list1)\n",
    "print('-' * 50)\n",
    "print('Expected Value')\n",
    "print('-' * 50)\n",
    "print(list2)\n",
    "print('-' * 50)\n",
    "print('Degree of Freedom : ', df)\n",
    "print('Alpha Value : ', alpha)\n",
    "print('Chi-squared value from table is : {}'.format(table_value))\n",
    "print('-' * 50)\n",
    "\n",
    "print('Computed Chi-squared value is : {:.2f}'.format(s))   \n",
    "print('Since {:.2f} < {}. H0 is not rejected.'.format(s, table_value))\n",
    "print('-' * 50)\n",
    "print('Conclusion : Gender and Voting are Independent')\n",
    "print('-' * 50)"
   ]
  },
  {
   "cell_type": "markdown",
   "id": "e4f1743c",
   "metadata": {},
   "source": [
    "# Problem Statement 19:"
   ]
  },
  {
   "cell_type": "markdown",
   "id": "dabcc575",
   "metadata": {},
   "source": [
    "<p>A sample of 100 voters are asked which of four candidates they would vote for in an \n",
    "election. The number supporting each candidate is given below:\n",
    "</p>\n",
    "\n",
    "\n",
    "<table>\n",
    "<tbody>\n",
    "<tr>\n",
    "<td>&nbsp;Higgins</td>\n",
    "<td>Reardon</td>\n",
    "<td>White</td>\n",
    "<td>Charlton</td>\n",
    "</tr>\n",
    "<tr>\n",
    "<td>&nbsp;41</td>\n",
    "<td>19</td>\n",
    "<td>24</td>\n",
    "<td>16</td>\n",
    "</tr>\n",
    "</tbody>\n",
    "</table>\n"
   ]
  },
  {
   "cell_type": "markdown",
   "id": "e33d60d6",
   "metadata": {},
   "source": [
    "## Solution"
   ]
  },
  {
   "cell_type": "code",
   "execution_count": 18,
   "id": "1497531d",
   "metadata": {},
   "outputs": [
    {
     "name": "stdout",
     "output_type": "stream",
     "text": [
      "--------------------------------------------------\n",
      "Null Hypothesis :  Candidates are equally popular\n",
      "Alternate Hypothesis :  Candidates are not equally popular\n",
      "--------------------------------------------------\n",
      "Original Value\n",
      "--------------------------------------------------\n",
      "[41, 19, 24, 16]\n",
      "--------------------------------------------------\n",
      "Expected Value\n",
      "--------------------------------------------------\n",
      "[25, 25, 25, 25]\n",
      "--------------------------------------------------\n",
      "Degree of Freedom :  3\n",
      "Alpha Value :  0.05\n",
      "Chi-squared value from table is : 7.81\n",
      "--------------------------------------------------\n",
      "Computed Chi-squared value is : 14.96\n",
      "Since 14.96 > 7.81. H0 is rejected.\n",
      "--------------------------------------------------\n",
      "Conclusion : The candidates are not equally popular.\n",
      "--------------------------------------------------\n"
     ]
    }
   ],
   "source": [
    "%reset -f\n",
    "\n",
    "H0 = 'Candidates are equally popular'\n",
    "H1 = 'Candidates are not equally popular'\n",
    "\n",
    "\n",
    "list1 = [41, 19, 24, 16]\n",
    "list2 = [25, 25, 25, 25]\n",
    "s = 0\n",
    "for i in range(len(list2)):\n",
    "    s += (((list1[i] - list2[i]) ** 2)) / list2[i]\n",
    "    \n",
    "\n",
    "df = (4 - 1) \n",
    "alpha = 0.05\n",
    "table_value = 7.81\n",
    "\n",
    "\n",
    "print('-' * 50)\n",
    "print('Null Hypothesis : ', H0)\n",
    "print('Alternate Hypothesis : ', H1)\n",
    "print('-' * 50)\n",
    "print('Original Value')\n",
    "print('-' * 50)\n",
    "print(list1)\n",
    "print('-' * 50)\n",
    "print('Expected Value')\n",
    "print('-' * 50)\n",
    "print(list2)\n",
    "print('-' * 50)\n",
    "print('Degree of Freedom : ', df)\n",
    "print('Alpha Value : ', alpha)\n",
    "print('Chi-squared value from table is : {}'.format(table_value))\n",
    "print('-' * 50)\n",
    "\n",
    "print('Computed Chi-squared value is : {:.2f}'.format(s))   \n",
    "print('Since {:.2f} > {}. H0 is rejected.'.format(s, table_value))\n",
    "print('-' * 50)\n",
    "print('Conclusion : The candidates are not equally popular.')\n",
    "print('-' * 50)"
   ]
  },
  {
   "cell_type": "markdown",
   "id": "02ba94b0",
   "metadata": {},
   "source": [
    "# Problem Statement 20:"
   ]
  },
  {
   "cell_type": "markdown",
   "id": "ebd6fca2",
   "metadata": {},
   "source": [
    "Children of three ages are asked to indicate their preference for three photographs of \n",
    "adults. Do the data suggest that there is a significant relationship between age and \n",
    "photograph preference? What is wrong with this study? [Chi-Square = 29.6, with 4 \n",
    "df: 𝑝 < 0.05]."
   ]
  },
  {
   "cell_type": "markdown",
   "id": "99ae0e82",
   "metadata": {},
   "source": [
    "## Solution:"
   ]
  },
  {
   "cell_type": "code",
   "execution_count": 19,
   "id": "e27823c9",
   "metadata": {},
   "outputs": [
    {
     "name": "stdout",
     "output_type": "stream",
     "text": [
      "--------------------------------------------------\n",
      "Null Hypothesis :  There is no relationship.\n",
      "Alternate Hypothesis :  There is a relationship.\n",
      "--------------------------------------------------\n",
      "Original Value\n",
      "--------------------------------------------------\n",
      "[[18 22 20]\n",
      " [ 2 28 40]\n",
      " [20 10 40]]\n",
      "--------------------------------------------------\n",
      "Expected Value\n",
      "--------------------------------------------------\n",
      "[[12. 18. 30.]\n",
      " [14. 21. 35.]\n",
      " [14. 21. 35.]]\n",
      "--------------------------------------------------\n",
      "Degree of Freedom :  4\n",
      "Alpha Value :  0.05\n",
      "Chi-squared value from table is : 9.49\n",
      "--------------------------------------------------\n",
      "Computed Chi-squared value is : 29.60\n",
      "Since 29.60 > 9.49. H0 is rejected.\n",
      "--------------------------------------------------\n",
      "Conclusion : There is a significant relationship between age and photograph preference\n",
      "--------------------------------------------------\n"
     ]
    }
   ],
   "source": [
    "%reset -f\n",
    "\n",
    "import numpy as np\n",
    "\n",
    "list1 = [[18, 22, 20], [2, 28, 40], [20, 10, 40]]\n",
    "list1 = np.array(list1)\n",
    "\n",
    "list2 = []\n",
    "for i in np.sum(list1, axis=1):\n",
    "    for j in np.sum(list1, axis=0):\n",
    "        list2.append(np.round((i * j) / np.sum(list1), 2))\n",
    "\n",
    "list2 = np.array(list2)\n",
    "s = 0\n",
    "\n",
    "for i in range(len(list2)):\n",
    "    s += (((list1.ravel()[i] - list2[i]) ** 2)) / list2[i]\n",
    "    \n",
    "    \n",
    "df = (3 - 1) * (3 - 1)\n",
    "alpha = 0.05\n",
    "table_value = 9.49\n",
    "\n",
    "H0 = 'There is no relationship.'\n",
    "H1 = 'There is a relationship.'\n",
    "\n",
    "print('-' * 50)\n",
    "print('Null Hypothesis : ', H0)\n",
    "print('Alternate Hypothesis : ', H1)\n",
    "print('-' * 50)\n",
    "print('Original Value')\n",
    "print('-' * 50)\n",
    "print(list1)\n",
    "print('-' * 50)\n",
    "print('Expected Value')\n",
    "print('-' * 50)\n",
    "print(np.reshape(list2, (3, 3)))\n",
    "print('-' * 50)\n",
    "print('Degree of Freedom : ', df)\n",
    "print('Alpha Value : ', alpha)\n",
    "print('Chi-squared value from table is : {}'.format(table_value))\n",
    "print('-' * 50)\n",
    "\n",
    "print('Computed Chi-squared value is : {:.2f}'.format(s))   \n",
    "print('Since {:.2f} > {}. H0 is rejected.'.format(s, table_value))\n",
    "print('-' * 50)\n",
    "print('Conclusion : There is a significant relationship between age and photograph preference')\n",
    "print('-' * 50)"
   ]
  },
  {
   "cell_type": "markdown",
   "id": "3794ed07",
   "metadata": {},
   "source": [
    "# Problem Statement 21: "
   ]
  },
  {
   "cell_type": "markdown",
   "id": "632044af",
   "metadata": {},
   "source": [
    "<p>A study of conformity using the Asch paradigm involved two conditions: one where \n",
    "one confederate supported the true judgement and another where no confederate \n",
    "gave the correct response.</p>\n",
    "\n",
    "<table>\n",
    "<tbody>\n",
    "<tr>\n",
    "<td>&nbsp;</td>\n",
    "<td>&nbsp;Support</td>\n",
    "<td>No Support</td>\n",
    "</tr>\n",
    "<tr>\n",
    "<td>&nbsp;Conform</td>\n",
    "<td>18</td>\n",
    "<td>40</td>\n",
    "</tr>\n",
    "<tr>\n",
    "<td>Not Conform</td>\n",
    "<td>32</td>\n",
    "<td>10</td>\n",
    "</tr>\n",
    "</tbody>\n",
    "</table>\n",
    "\n",
    "<p>Is there a significant difference between the \"support\" and \"no support\" conditions in the \n",
    "frequency with which individuals are likely to conform? [Chi-Square = 19.87, with 1 df:\n",
    "𝑝 < 0.05].</p>"
   ]
  },
  {
   "cell_type": "markdown",
   "id": "8a423092",
   "metadata": {},
   "source": [
    "## Solution"
   ]
  },
  {
   "cell_type": "code",
   "execution_count": 20,
   "id": "b644105e",
   "metadata": {},
   "outputs": [
    {
     "name": "stdout",
     "output_type": "stream",
     "text": [
      "--------------------------------------------------\n",
      "Null Hypothesis :  There is no relationship.\n",
      "Alternate Hypothesis :  There is a relationship.\n",
      "--------------------------------------------------\n",
      "Original Value\n",
      "--------------------------------------------------\n",
      "[[18 40]\n",
      " [32 10]]\n",
      "--------------------------------------------------\n",
      "Expected Value\n",
      "--------------------------------------------------\n",
      "[[29. 29.]\n",
      " [21. 21.]]\n",
      "--------------------------------------------------\n",
      "Degree of Freedom :  1\n",
      "Alpha Value :  0.05\n",
      "Chi-squared value from table is : 3.84\n",
      "--------------------------------------------------\n",
      "Computed Chi-squared value is : 19.87\n",
      "Since 19.87 > 3.84. H0 is rejected.\n",
      "--------------------------------------------------\n",
      "Conclusion : There is a significant difference between the \"support\" and \"no support\" conditions in the  frequency with which individuals are likely to conform\n",
      "--------------------------------------------------\n"
     ]
    }
   ],
   "source": [
    "%reset -f\n",
    "\n",
    "import numpy as np\n",
    "\n",
    "list1 = [[18, 40], [32, 10]]\n",
    "list1 = np.array(list1)\n",
    "\n",
    "list2 = []\n",
    "for i in np.sum(list1, axis=1):\n",
    "    for j in np.sum(list1, axis=0):\n",
    "        list2.append(np.round((i * j) / np.sum(list1), 2))\n",
    "\n",
    "list2 = np.array(list2)\n",
    "s = 0\n",
    "\n",
    "for i in range(len(list2)):\n",
    "    s += (((list1.ravel()[i] - list2[i]) ** 2)) / list2[i]\n",
    "\n",
    "    \n",
    "df = (2 - 1) * (2 - 1)\n",
    "alpha = 0.05\n",
    "table_value = 3.84 \n",
    "\n",
    "H0 = 'There is no relationship.'\n",
    "H1 = 'There is a relationship.'\n",
    "\n",
    "print('-' * 50)\n",
    "print('Null Hypothesis : ', H0)\n",
    "print('Alternate Hypothesis : ', H1)\n",
    "print('-' * 50)\n",
    "print('Original Value')\n",
    "print('-' * 50)\n",
    "print(list1)\n",
    "print('-' * 50)\n",
    "print('Expected Value')\n",
    "print('-' * 50)\n",
    "print(np.reshape(list2, (2, 2)))\n",
    "print('-' * 50)\n",
    "print('Degree of Freedom : ', df)\n",
    "print('Alpha Value : ', alpha)\n",
    "print('Chi-squared value from table is : {}'.format(table_value))\n",
    "print('-' * 50)\n",
    "\n",
    "print('Computed Chi-squared value is : {:.2f}'.format(s))   \n",
    "print('Since {:.2f} > {}. H0 is rejected.'.format(s, table_value))\n",
    "print('-' * 50)\n",
    "print('Conclusion : There is a significant difference between the \"support\" and \"no support\" conditions in the  frequency with which individuals are likely to conform')\n",
    "print('-' * 50)"
   ]
  },
  {
   "cell_type": "markdown",
   "id": "76eb7530",
   "metadata": {},
   "source": [
    "# Problem Statement 22:"
   ]
  },
  {
   "cell_type": "markdown",
   "id": "a7926627",
   "metadata": {},
   "source": [
    "We want to test whether short people differ with respect to their leadership qualities \n",
    "(Genghis Khan, Adolf Hitler and Napoleon were all stature-deprived, and how many midget \n",
    "MP's are there?) The following table shows the frequencies with which 43 short people and \n",
    "52 tall people were categorized as \"leaders\", \"followers\" or as \"unclassifiable\". Is there a \n",
    "relationship between height and leadership qualities? \n",
    "[Chi-Square = 10.71, with 2 df: 𝑝 < 0.01].\n"
   ]
  },
  {
   "cell_type": "markdown",
   "id": "457522bc",
   "metadata": {},
   "source": [
    "## Solution"
   ]
  },
  {
   "cell_type": "code",
   "execution_count": 21,
   "id": "95c81e97",
   "metadata": {},
   "outputs": [
    {
     "name": "stdout",
     "output_type": "stream",
     "text": [
      "--------------------------------------------------\n",
      "Null Hypothesis :  There is no relationship.\n",
      "Alternate Hypothesis :  There is a relationship.\n",
      "--------------------------------------------------\n",
      "Original Value\n",
      "--------------------------------------------------\n",
      "[[12 32]\n",
      " [22 14]\n",
      " [ 9  6]]\n",
      "--------------------------------------------------\n",
      "Expected Value\n",
      "--------------------------------------------------\n",
      "[[19.92 24.08]\n",
      " [16.29 19.71]\n",
      " [ 6.79  8.21]]\n",
      "--------------------------------------------------\n",
      "Degree of Freedom :  2\n",
      "Alpha Value :  0.05\n",
      "Chi-squared value from table is : 9.21\n",
      "--------------------------------------------------\n",
      "Computed Chi-squared value is : 10.72\n",
      "Since 10.72 > 9.21. H0 is rejected.\n",
      "--------------------------------------------------\n",
      "Conclusion : There is a relation between height and leadership.\n",
      "--------------------------------------------------\n"
     ]
    }
   ],
   "source": [
    "%reset -f\n",
    "\n",
    "import numpy as np\n",
    "\n",
    "list1 = [[12, 32], [22, 14], [9, 6]]\n",
    "list1 = np.array(list1)\n",
    "\n",
    "list2 = []\n",
    "for i in np.sum(list1, axis=1):\n",
    "    for j in np.sum(list1, axis=0):\n",
    "        list2.append(np.round((i * j) / np.sum(list1), 2))\n",
    "\n",
    "list2 = np.array(list2)\n",
    "s = 0\n",
    "\n",
    "for i in range(len(list2)):\n",
    "    s += (((list1.ravel()[i] - list2[i]) ** 2)) / list2[i]\n",
    "\n",
    "\n",
    "df = (3 - 1) * (2 - 1)\n",
    "alpha = 0.05\n",
    "table_value = 9.21\n",
    "\n",
    "H0 = 'There is no relationship.'\n",
    "H1 = 'There is a relationship.'\n",
    "\n",
    "print('-' * 50)\n",
    "print('Null Hypothesis : ', H0)\n",
    "print('Alternate Hypothesis : ', H1)\n",
    "print('-' * 50)\n",
    "print('Original Value')\n",
    "print('-' * 50)\n",
    "print(list1)\n",
    "print('-' * 50)\n",
    "print('Expected Value')\n",
    "print('-' * 50)\n",
    "print(np.reshape(list2, (3, 2)))\n",
    "print('-' * 50)\n",
    "print('Degree of Freedom : ', df)\n",
    "print('Alpha Value : ', alpha)\n",
    "print('Chi-squared value from table is : {}'.format(table_value))\n",
    "print('-' * 50)\n",
    "\n",
    "print('Computed Chi-squared value is : {:.2f}'.format(s))   \n",
    "print('Since {:.2f} > {}. H0 is rejected.'.format(s, table_value))\n",
    "print('-' * 50)\n",
    "print('Conclusion : There is a relation between height and leadership.')\n",
    "print('-' * 50)"
   ]
  },
  {
   "cell_type": "markdown",
   "id": "4e5fcde5",
   "metadata": {},
   "source": [
    "# Problem Statement 23: "
   ]
  },
  {
   "cell_type": "markdown",
   "id": "2f3ab18d",
   "metadata": {},
   "source": [
    "Each respondent in the Current Population Survey of March 1993 was classified as \n",
    "employed, unemployed, or outside the labor force. The results for men in California age 35-\n",
    "44 can be cross-tabulated by marital status, as follows:\n",
    "\n",
    "Men of different marital status seem to have different distributions of labor force status. Or is \n",
    "this just chance variation? (you may assume the table results from a simple random \n",
    "sample.)\n"
   ]
  },
  {
   "cell_type": "markdown",
   "id": "ac0a41bd",
   "metadata": {},
   "source": [
    "## Solution"
   ]
  },
  {
   "cell_type": "code",
   "execution_count": 22,
   "id": "18e607ad",
   "metadata": {},
   "outputs": [
    {
     "name": "stdout",
     "output_type": "stream",
     "text": [
      "--------------------------------------------------\n",
      "Null Hypothesis :  There is no relationship.\n",
      "Alternate Hypothesis :  There is a relationship.\n",
      "--------------------------------------------------\n",
      "Original Value\n",
      "--------------------------------------------------\n",
      "[[679 103 114]\n",
      " [ 63  10  20]\n",
      " [ 42  18  25]]\n",
      "--------------------------------------------------\n",
      "Expected Value\n",
      "--------------------------------------------------\n",
      "[[654.06 109.29 132.65]\n",
      " [ 67.89  11.34  13.77]\n",
      " [ 62.05  10.37  12.58]]\n",
      "--------------------------------------------------\n",
      "Degree of Freedom :  4\n",
      "Alpha Value :  0.05\n",
      "Chi-squared value from table is : 9.49\n",
      "--------------------------------------------------\n",
      "Computed Chi-squared value is : 31.62\n",
      "Since 31.62 > 9.49. H0 is rejected.\n",
      "--------------------------------------------------\n",
      "Conclusion : Maritial status and Employment are related.\n",
      "--------------------------------------------------\n"
     ]
    }
   ],
   "source": [
    "%reset -f\n",
    "\n",
    "import numpy as np\n",
    "\n",
    "list1 = [[679, 103, 114], [63, 10, 20], [42, 18, 25]]\n",
    "list1 = np.array(list1)\n",
    "\n",
    "list2 = []\n",
    "for i in np.sum(list1, axis=1):\n",
    "    for j in np.sum(list1, axis=0):\n",
    "        list2.append(np.round((i * j) / np.sum(list1), 2))\n",
    "\n",
    "list2 = np.array(list2)\n",
    "s = 0\n",
    "\n",
    "for i in range(len(list2)):\n",
    "    s += (((list1.ravel()[i] - list2[i]) ** 2)) / list2[i]\n",
    "\n",
    "df = (3 - 1) * (3 - 1)\n",
    "alpha = 0.05\n",
    "table_value = 9.49\n",
    "\n",
    "H0 = 'There is no relationship.'\n",
    "H1 = 'There is a relationship.'\n",
    "\n",
    "print('-' * 50)\n",
    "print('Null Hypothesis : ', H0)\n",
    "print('Alternate Hypothesis : ', H1)\n",
    "print('-' * 50)\n",
    "print('Original Value')\n",
    "print('-' * 50)\n",
    "print(list1)\n",
    "print('-' * 50)\n",
    "print('Expected Value')\n",
    "print('-' * 50)\n",
    "print(np.reshape(list2, (3, 3)))\n",
    "print('-' * 50)\n",
    "print('Degree of Freedom : ', df)\n",
    "print('Alpha Value : ', alpha)\n",
    "print('Chi-squared value from table is : {}'.format(table_value))\n",
    "print('-' * 50)\n",
    "\n",
    "print('Computed Chi-squared value is : {:.2f}'.format(s))   \n",
    "print('Since {:.2f} > {}. H0 is rejected.'.format(s, table_value))\n",
    "print('-' * 50)\n",
    "print('Conclusion : Maritial status and Employment are related.')\n",
    "print('-' * 50)"
   ]
  },
  {
   "cell_type": "code",
   "execution_count": null,
   "id": "51fd200e",
   "metadata": {},
   "outputs": [],
   "source": []
  }
 ],
 "metadata": {
  "kernelspec": {
   "display_name": "Python 3 (ipykernel)",
   "language": "python",
   "name": "python3"
  },
  "language_info": {
   "codemirror_mode": {
    "name": "ipython",
    "version": 3
   },
   "file_extension": ".py",
   "mimetype": "text/x-python",
   "name": "python",
   "nbconvert_exporter": "python",
   "pygments_lexer": "ipython3",
   "version": "3.9.7"
  }
 },
 "nbformat": 4,
 "nbformat_minor": 5
}

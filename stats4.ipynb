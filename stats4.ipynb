{
 "cells": [
  {
   "cell_type": "markdown",
   "id": "e24d715f",
   "metadata": {},
   "source": [
    "# Problem Statement 1:"
   ]
  },
  {
   "cell_type": "raw",
   "id": "4d0581d0",
   "metadata": {},
   "source": [
    "Is gender independent of education level? A random sample of 395 people were \n",
    "surveyed and each person was asked to report the highest education level they \n",
    "obtained. The data that resulted from the survey is summarized in the following table:\n",
    "High School Bachelors Masters Ph.d. Total\n",
    "Female 60 54 46 41 201\n",
    "Male 40 44 53 57 194\n",
    "Total 100 98 99 98 395\n",
    "Question: Are gender and education level dependent at 5% level of significance? In\n",
    "other words, given the data collected above, is there a relationship between the \n",
    "gender of an individual and the level of education that they have obtained?"
   ]
  },
  {
   "cell_type": "markdown",
   "id": "bc0b81f9",
   "metadata": {},
   "source": [
    "## Solution"
   ]
  },
  {
   "cell_type": "code",
   "execution_count": 1,
   "id": "f77f6709",
   "metadata": {},
   "outputs": [
    {
     "name": "stdout",
     "output_type": "stream",
     "text": [
      "--------------------------------------------------\n",
      "Null Hypothesis :  Gender is independent of Education Level.\n",
      "Alternate Hypothesis :  Gender is not independent of Education Level.\n",
      "--------------------------------------------------\n",
      "Original Value\n",
      "--------------------------------------------------\n",
      "[[ 54  46  41 201]\n",
      " [ 44  53  57 194]\n",
      " [ 98  99  98 395]]\n",
      "--------------------------------------------------\n",
      "Expected Value\n",
      "--------------------------------------------------\n",
      "[[ 48.57  49.07  48.57 195.78]\n",
      " [ 49.43  49.93  49.43 199.22]\n",
      " [ 98.    99.    98.   395.  ]]\n",
      "--------------------------------------------------\n",
      "Degree of Freedom :  6\n",
      "Alpha Value :  0.05\n",
      "Chi-squared value from table is : 9.49\n",
      "--------------------------------------------------\n",
      "Computed Chi-squared value is : 4.20\n",
      "Since 4.20 < 9.49. H0 cant be rejected.\n",
      "--------------------------------------------------\n",
      "Conclusion : Gender is independent of Education Level.\n",
      "--------------------------------------------------\n"
     ]
    }
   ],
   "source": [
    "%reset -f\n",
    "\n",
    "import numpy as np\n",
    "\n",
    "list1 = [[54, 46, 41, 201], [44, 53, 57, 194], [98, 99, 98, 395]]\n",
    "list1 = np.array(list1)\n",
    "\n",
    "list2 = []\n",
    "for i in np.sum(list1, axis=1):\n",
    "    for j in np.sum(list1, axis=0):\n",
    "        list2.append(np.round((i * j) / np.sum(list1), 2))\n",
    "\n",
    "list2 = np.array(list2)\n",
    "s = 0\n",
    "\n",
    "for i in range(len(list2)):\n",
    "    s += (((list1.ravel()[i] - list2[i]) ** 2)) / list2[i]\n",
    "\n",
    "df = (3 - 1) * (4 - 1)\n",
    "alpha = 0.05\n",
    "table_value = 9.49\n",
    "\n",
    "H0 = 'Gender is independent of Education Level.'\n",
    "H1 = 'Gender is not independent of Education Level.'\n",
    "\n",
    "print('-' * 50)\n",
    "print('Null Hypothesis : ', H0)\n",
    "print('Alternate Hypothesis : ', H1)\n",
    "print('-' * 50)\n",
    "print('Original Value')\n",
    "print('-' * 50)\n",
    "print(list1)\n",
    "print('-' * 50)\n",
    "print('Expected Value')\n",
    "print('-' * 50)\n",
    "print(np.reshape(list2, (3, 4)))\n",
    "print('-' * 50)\n",
    "print('Degree of Freedom : ', df)\n",
    "print('Alpha Value : ', alpha)\n",
    "print('Chi-squared value from table is : {}'.format(table_value))\n",
    "print('-' * 50)\n",
    "\n",
    "print('Computed Chi-squared value is : {:.2f}'.format(s))   \n",
    "print('Since {:.2f} < {}. H0 cant be rejected.'.format(s, table_value))\n",
    "print('-' * 50)\n",
    "print('Conclusion : Gender is independent of Education Level.')\n",
    "print('-' * 50)"
   ]
  },
  {
   "cell_type": "markdown",
   "id": "c0d4c229",
   "metadata": {},
   "source": [
    "# Problem Statement 2:"
   ]
  },
  {
   "cell_type": "raw",
   "id": "c1ac1f99",
   "metadata": {},
   "source": [
    "Using the following data, perform a oneway analysis of variance using α=.05. Write \n",
    "up the results in APA format.\n",
    "[Group1: 51, 45, 33, 45, 67]\n",
    "[Group2: 23, 43, 23, 43, 45]\n",
    "[Group3: 56, 76, 74, 87, 56]"
   ]
  },
  {
   "cell_type": "markdown",
   "id": "7787f000",
   "metadata": {},
   "source": [
    "## Solution"
   ]
  },
  {
   "cell_type": "code",
   "execution_count": 2,
   "id": "5798a2da",
   "metadata": {},
   "outputs": [
    {
     "name": "stdout",
     "output_type": "stream",
     "text": [
      "--------------------------------------------------\n",
      "Mean of list1 :  48.2\n",
      "Mean of list2 :  35.4\n",
      "Mean of list3 :  69.8\n",
      "--------------------------------------------------\n",
      "Grand Mean : 51.13\n",
      "--------------------------------------------------\n",
      "Sum of Squares between the samples (SSC) : 3022.93\n",
      "Sum of Squares within the samples (SSE) : 1860.80\n",
      "Total (SSC + SSE) : 4883.73\n",
      "--------------------------------------------------\n",
      "Degree of freedom in the Numerator : 2\n",
      "Degree of freedom in the Denominator : 12\n",
      "Total : 14\n",
      "--------------------------------------------------\n",
      "Mean sum of Squares between the samples (MSC) : 1511.47\n",
      "Mean sum of Squares within the samples (MSE) : 155.07\n",
      "Total (MSC + MSE) : 1666.53\n",
      "--------------------------------------------------\n",
      "Computed F-Stat Value : 9.75\n",
      "F Value from Table (alpha = 0.05) : 3.88\n",
      "--------------------------------------------------\n",
      "Since 9.75 > 3.88. H0 is rejected.\n"
     ]
    }
   ],
   "source": [
    "%reset -f\n",
    "\n",
    "import numpy as np\n",
    "\n",
    "list1 = np.array([51, 45, 33, 45, 67])\n",
    "list2 = np.array([23, 43, 23, 43, 45])\n",
    "list3 = np.array([56, 76, 74, 87, 56])\n",
    "\n",
    "# list1 = np.array([2, 4, 6])\n",
    "# list2 = np.array([3, 5, 7])\n",
    "# list3 = np.array([4, 6, 8])\n",
    "\n",
    "\n",
    "mean_list1 = list1.mean()\n",
    "mean_list2 = list2.mean()\n",
    "mean_list3 = list3.mean()\n",
    "\n",
    "print('-' * 50)\n",
    "print('Mean of list1 : ', mean_list1)\n",
    "print('Mean of list2 : ', mean_list2)\n",
    "print('Mean of list3 : ', mean_list3)\n",
    "print('-' * 50)\n",
    "\n",
    "grand_mean = (mean_list1 + mean_list2 + mean_list3) / 3\n",
    "print('Grand Mean : {:.2f}'.format(grand_mean))\n",
    "print('-' * 50)\n",
    "\n",
    "sum1 = 0\n",
    "sum2 = 0\n",
    "sum3 = 0\n",
    "\n",
    "\n",
    "\n",
    "sum1 = ((mean_list1 - grand_mean) ** 2) * 5\n",
    "sum2 = ((mean_list2 - grand_mean) ** 2) * 5\n",
    "sum3 = ((mean_list3 - grand_mean) ** 2) * 5\n",
    "\n",
    "ssc = sum1 + sum2 + sum3\n",
    "print('Sum of Squares between the samples (SSC) : {:.2f}'.format(ssc))\n",
    "\n",
    "sse = 0\n",
    "\n",
    "for i in range(list1.shape[0]):\n",
    "    sse += ((list1[i] - mean_list1) ** 2) + ((list2[i] - mean_list2) ** 2) + ((list3[i] - mean_list3 ) ** 2)\n",
    "    \n",
    "    \n",
    "print('Sum of Squares within the samples (SSE) : {:.2f}'.format(sse))  \n",
    "\n",
    "print('Total (SSC + SSE) : {:.2f}'.format(ssc + sse)) \n",
    "print('-' * 50)\n",
    "\n",
    "print('Degree of freedom in the Numerator : {}'.format(3 - 1))\n",
    "print('Degree of freedom in the Denominator : {}'.format(15 - 3))\n",
    "print('Total : {}'.format(3 - 1 + 15 - 3)) \n",
    "print('-' * 50)\n",
    "\n",
    "msc = ssc / (3 - 1)\n",
    "mse = sse / (15 - 3)\n",
    "\n",
    "print('Mean sum of Squares between the samples (MSC) : {:.2f}'.format(msc))\n",
    "print('Mean sum of Squares within the samples (MSE) : {:.2f}'.format(mse))\n",
    "print('Total (MSC + MSE) : {:.2f}'.format(msc + mse)) \n",
    "print('-' * 50)\n",
    "\n",
    "f = msc / mse\n",
    "print('Computed F-Stat Value : {:.2f}'.format(f))\n",
    "print('F Value from Table (alpha = 0.05) : {:.2f}'.format(3.885))\n",
    "print('-' * 50)\n",
    "\n",
    "print('Since {:.2f} > {:.2f}. H0 is rejected.'.format(f, 3.885))\n"
   ]
  },
  {
   "cell_type": "markdown",
   "id": "958515a4",
   "metadata": {},
   "source": [
    "# Problem Statement 3:"
   ]
  },
  {
   "cell_type": "markdown",
   "id": "724fb0e0",
   "metadata": {},
   "source": [
    "Calculate F Test for given 10, 20, 30, 40, 50 and 5,10,15, 20, 25.\n",
    "For 10, 20, 30, 40, 50:"
   ]
  },
  {
   "cell_type": "markdown",
   "id": "05091cc1",
   "metadata": {},
   "source": [
    "## Solution"
   ]
  },
  {
   "cell_type": "code",
   "execution_count": 3,
   "id": "7df66896",
   "metadata": {},
   "outputs": [
    {
     "name": "stdout",
     "output_type": "stream",
     "text": [
      "Computer Variance for 1st Distribution :  250.0\n",
      "Computer Variance for 2nd Distribution :  62.5\n",
      "F-Test Value : 4.0\n"
     ]
    }
   ],
   "source": [
    "%reset -f\n",
    "\n",
    "import numpy as np \n",
    "\n",
    "list1 = np.array([10, 20, 30, 40, 50])\n",
    "list2 = np.array([5, 10, 15, 20, 25])\n",
    "\n",
    "list1_mean = list1.mean()\n",
    "list2_mean = list2.mean()\n",
    "\n",
    "var1 = 0\n",
    "var2 = 0\n",
    "\n",
    "for i in range(len(list1)):\n",
    "    var1 += ((list1[i] - list1_mean) ** 2) / (len(list1) - 1)\n",
    "    var2 += ((list2[i] - list2_mean) ** 2) / (len(list2) - 1)\n",
    "    \n",
    "\n",
    "print('Computer Variance for 1st Distribution : ', var1)\n",
    "print('Computer Variance for 2nd Distribution : ', var2)\n",
    "\n",
    "print('F-Test Value : {}'.format(max(var1, var2) / min(var1, var2)))"
   ]
  }
 ],
 "metadata": {
  "kernelspec": {
   "display_name": "Python 3 (ipykernel)",
   "language": "python",
   "name": "python3"
  },
  "language_info": {
   "codemirror_mode": {
    "name": "ipython",
    "version": 3
   },
   "file_extension": ".py",
   "mimetype": "text/x-python",
   "name": "python",
   "nbconvert_exporter": "python",
   "pygments_lexer": "ipython3",
   "version": "3.9.7"
  }
 },
 "nbformat": 4,
 "nbformat_minor": 5
}

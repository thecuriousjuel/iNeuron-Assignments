{
 "cells": [
  {
   "cell_type": "markdown",
   "id": "e9f91b79",
   "metadata": {},
   "source": [
    "# Problem Statement 1:"
   ]
  },
  {
   "cell_type": "markdown",
   "id": "ac28ce56",
   "metadata": {},
   "source": [
    "Blood glucose levels for obese patients have a mean of 100 with a standard deviation of\n",
    "15. A researcher thinks that a diet high in raw cornstarch will have a positive effect on \n",
    "blood glucose levels. A sample of 36 patients who have tried the raw cornstarch diet \n",
    "have a mean glucose level of 108. Test the hypothesis that the raw cornstarch had an \n",
    "effect or not."
   ]
  },
  {
   "cell_type": "markdown",
   "id": "77ecb826",
   "metadata": {},
   "source": [
    "## Solution"
   ]
  },
  {
   "cell_type": "code",
   "execution_count": 1,
   "id": "b9028606",
   "metadata": {},
   "outputs": [
    {
     "name": "stdout",
     "output_type": "stream",
     "text": [
      "--------------------------------------------------\n",
      "Null Hypothesis :  The diet doesnot have any effect.\n",
      "Alternate Hypothesis :  The diet has effect.\n",
      "--------------------------------------------------\n",
      "Computed z score :  3.2\n",
      "We can see 3.20 > 1.96. And this is a two tailed test. Hence H0 is rejected.\n",
      "Conclusion : The Diet has effect.\n",
      "--------------------------------------------------\n"
     ]
    }
   ],
   "source": [
    "%reset -f\n",
    "\n",
    "H0 = 'The diet doesnot have any effect.'\n",
    "H1 = 'The diet has effect.'\n",
    "\n",
    "pop_mean = 100\n",
    "pop_std = 15\n",
    "\n",
    "n = 36\n",
    "sample_mean = 108\n",
    "alpha = 0.05\n",
    "alpha_2 = alpha / 2\n",
    "\n",
    "print('-' * 50)\n",
    "\n",
    "print('Null Hypothesis : ', H0)\n",
    "print('Alternate Hypothesis : ', H1)\n",
    "\n",
    "print('-' * 50)\n",
    "\n",
    "# Z-Test\n",
    "\n",
    "z_test = (sample_mean - pop_mean) / (pop_std / (n ** 0.5))\n",
    "\n",
    "print('Computed z score : ', z_test)\n",
    "\n",
    "print('We can see {:.2f} > 1.96. And this is a two tailed test. Hence H0 is rejected.'.format(z_test))\n",
    "\n",
    "print('Conclusion : The Diet has effect.')\n",
    "print('-' * 50)"
   ]
  },
  {
   "cell_type": "markdown",
   "id": "30641cd9",
   "metadata": {},
   "source": [
    "# Problem Statement 2:"
   ]
  },
  {
   "cell_type": "markdown",
   "id": "1f174756",
   "metadata": {},
   "source": [
    "In one state, 52% of the voters are Republicans, and 48% are Democrats. In a second \n",
    "state, 47% of the voters are Republicans, and 53% are Democrats. Suppose a simple \n",
    "random sample of 100 voters are surveyed from each state. <br>\n",
    "What is the probability that the survey will show a greater percentage of Republican \n",
    "voters in the second state than in the first state?"
   ]
  },
  {
   "cell_type": "markdown",
   "id": "9531b1a1",
   "metadata": {},
   "source": [
    "## Solution"
   ]
  },
  {
   "cell_type": "code",
   "execution_count": 2,
   "id": "e78617b0",
   "metadata": {},
   "outputs": [
    {
     "name": "stdout",
     "output_type": "stream",
     "text": [
      "Computed Z Value : -0.71\n",
      "Z-Value to P-Value : 0.24\n",
      "--------------------------------------------------\n",
      "The probability that the survey will show a greater percentage of Republican voters in the second state than in the first state is 0.24\n"
     ]
    }
   ],
   "source": [
    "%reset -f\n",
    "\n",
    "from scipy import stats\n",
    "\n",
    "# Republican voters in state 1 \n",
    "p1 = 0.52\n",
    "n1 = 100\n",
    "\n",
    "# Republican voters in state 2\n",
    "p2 = 0.47\n",
    "n2 = 100\n",
    "\n",
    "std_err = (((p1 * (1 - p1)) / n1) + ((p2 * (1 - p2)) / n2)) ** 0.5\n",
    "pop_mean = p1 - p2\n",
    "\n",
    "# For prob of p1 is less than p2, consider x = 0\n",
    "x = 0\n",
    "\n",
    "z = (x - pop_mean) / std_err\n",
    "print('Computed Z Value : {:.2f}'.format(z))\n",
    "print('Z-Value to P-Value : 0.24')\n",
    "print('-' * 50)\n",
    "print('The probability that the survey will show a greater percentage of Republican voters in the second state than in the first state is 0.24')"
   ]
  },
  {
   "cell_type": "markdown",
   "id": "eeb5a9b6",
   "metadata": {},
   "source": [
    "# Problem Statement 3:"
   ]
  },
  {
   "cell_type": "markdown",
   "id": "c1d44f83",
   "metadata": {},
   "source": [
    "You take the SAT and score 1100. The mean score for the SAT is 1026 and the standard \n",
    "deviation is 209. How well did you score on the test compared to the average test taker?"
   ]
  },
  {
   "cell_type": "markdown",
   "id": "419dc2fa",
   "metadata": {},
   "source": [
    "## Solution"
   ]
  },
  {
   "cell_type": "code",
   "execution_count": 3,
   "id": "0487a049",
   "metadata": {},
   "outputs": [
    {
     "name": "stdout",
     "output_type": "stream",
     "text": [
      "Average Score on Z Distribution : 0\n",
      "My Score is 0.35 standard deviations away from the avg score.\n"
     ]
    }
   ],
   "source": [
    "%reset -f\n",
    "\n",
    "x = 1100\n",
    "u = 1026\n",
    "pop_std = 209\n",
    "\n",
    "z = (x - u) / pop_std\n",
    "\n",
    "print('Average Score on Z Distribution : 0')\n",
    "print('My Score is {:.2f} standard deviations away from the avg score.'.format(z))"
   ]
  }
 ],
 "metadata": {
  "kernelspec": {
   "display_name": "Python 3 (ipykernel)",
   "language": "python",
   "name": "python3"
  },
  "language_info": {
   "codemirror_mode": {
    "name": "ipython",
    "version": 3
   },
   "file_extension": ".py",
   "mimetype": "text/x-python",
   "name": "python",
   "nbconvert_exporter": "python",
   "pygments_lexer": "ipython3",
   "version": "3.9.7"
  }
 },
 "nbformat": 4,
 "nbformat_minor": 5
}
